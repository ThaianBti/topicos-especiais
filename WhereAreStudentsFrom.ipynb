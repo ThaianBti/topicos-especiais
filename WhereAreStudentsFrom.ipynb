{
 "cells": [
  {
   "cell_type": "code",
   "execution_count": null,
   "metadata": {
    "collapsed": false
   },
   "outputs": [],
   "source": [
    "### Libraries necessary to run this IPython Notebook\n",
    "\n",
    "!pip install folium\n",
    "!pip install geocoder\n",
    "!pip install tqdm"
   ]
  },
  {
   "cell_type": "markdown",
   "metadata": {},
   "source": [
    "#### Load libraries and set options"
   ]
  },
  {
   "cell_type": "code",
   "execution_count": null,
   "metadata": {
    "collapsed": false
   },
   "outputs": [],
   "source": [
    "# Load relevant libraries\n",
    "import pandas as pd\n",
    "import numpy as np\n",
    "import matplotlib\n",
    "import folium\n",
    "import geocoder\n",
    "from tqdm import tqdm\n",
    "%pylab inline\n",
    "pylab.rcParams['figure.figsize'] = (10, 8)"
   ]
  },
  {
   "cell_type": "markdown",
   "metadata": {},
   "source": [
    "## 1. Introduction to Geocoding\n",
    "Geocoding is the process of transforming a description of a location to a spatial location on the surface of the earth. "
   ]
  },
  {
   "cell_type": "markdown",
   "metadata": {},
   "source": [
    "### 1.1 Geocoder\n",
    "There are several geocoding libraries and services available. In this notebook will demonstrate the use of the [Geocoder](https://pypi.python.org/pypi/geocoder/) Python library, using [Google Maps](https://maps.google.com) as provider."
   ]
  },
  {
   "cell_type": "markdown",
   "metadata": {},
   "source": [
    "We start by geocoding a single city and country combination. You can change the values of the city if you wish."
   ]
  },
  {
   "cell_type": "code",
   "execution_count": null,
   "metadata": {
    "collapsed": false
   },
   "outputs": [],
   "source": [
    "# Let's geocode a city in the format of the data set that we have available\n",
    "g = geocoder.google('Currais Novos, Brazil')\n",
    "\n",
    "# Print the lattitude and longitude for the city\n",
    "g.latlng"
   ]
  },
  {
   "cell_type": "markdown",
   "metadata": {},
   "source": [
    "You can use the same library to find the location based on IP addresses. When executing this on your virtual analysis environment, the location of the server will be returned."
   ]
  },
  {
   "cell_type": "code",
   "execution_count": null,
   "metadata": {
    "collapsed": false
   },
   "outputs": [],
   "source": [
    "# Find your location based on your IP address\n",
    "mylocation = geocoder.ip('me')\n",
    "\n",
    "# print your location\n",
    "mylocation.latlng"
   ]
  },
  {
   "cell_type": "markdown",
   "metadata": {},
   "source": [
    "### 1.2 Input data: Student location\n",
    "\n",
    "We have extracted an earlier snapshot of the current student group, allocated a new id and included industry, country and city. The intention here is to show you what can be achieved with minimal input. "
   ]
  },
  {
   "cell_type": "markdown",
   "metadata": {},
   "source": [
    "#### 1.2.1 Load the data"
   ]
  },
  {
   "cell_type": "code",
   "execution_count": null,
   "metadata": {
    "collapsed": false
   },
   "outputs": [],
   "source": [
    "# Load student location data and display the header\n",
    "df = pd.read_csv('students_raw.csv')\n",
    "df.head(10)"
   ]
  },
  {
   "cell_type": "markdown",
   "metadata": {},
   "source": [
    "Consider the forms and applications that you complete regularly. You may be happy to share your personal information with the company providing you with a product or service, but you will likely not be happy if they start sharing the information publicly. Many people provide this data in social media on public forums and do not necessarily think about the potential consequences. \n",
    "\n",
    "One of the techniques to hide sensitive data is to only release aggregated data. The biggest problem with this approach is that you are still able to identify persons in low density areas of the data set. You need to be extremely careful when designing applications that utilize personal data to ensure that you do not breach the trust of the users who supplied you with their data.\n",
    "\n",
    "We have removed names, surnames, telephone numbers, and email addresses, but many of you would still be able to provide an accurate guess about the random id allocated to you in dataset, df in 1.2.1, based on the examples below.\n"
   ]
  },
  {
   "cell_type": "markdown",
   "metadata": {},
   "source": [
    "#### 1.2.2 Prepare the data"
   ]
  },
  {
   "cell_type": "code",
   "execution_count": null,
   "metadata": {
    "collapsed": false
   },
   "outputs": [],
   "source": [
    "# Step 1: Group the data to hide the user id\n",
    "df1 = pd.DataFrame(df.groupby(['country', 'city', 'industry'])['id'].count()).reset_index()\n",
    "df1 = df1.rename(columns = {'id':'student_count'})\n",
    "df1.head(10)"
   ]
  },
  {
   "cell_type": "markdown",
   "metadata": {},
   "source": [
    "#### 1.2.3 Retrieve data for a specific city"
   ]
  },
  {
   "cell_type": "code",
   "execution_count": null,
   "metadata": {
    "collapsed": false
   },
   "outputs": [],
   "source": [
    "# Return all rows for New York\n",
    "df1.loc[df1['country'] == 'Brazil']"
   ]
  },
  {
   "cell_type": "markdown",
   "metadata": {},
   "source": [
    "#### 1.2.4 Plot students per country"
   ]
  },
  {
   "cell_type": "code",
   "execution_count": null,
   "metadata": {
    "collapsed": false
   },
   "outputs": [],
   "source": [
    "# Plot the count of students per country\n",
    "country_counts = df1.groupby(['country'])['student_count'].sum()\n",
    "country_counts.plot(kind='bar')\n"
   ]
  },
  {
   "cell_type": "markdown",
   "metadata": {},
   "source": [
    "#### 1.2.5 Plot students per industry"
   ]
  },
  {
   "cell_type": "code",
   "execution_count": null,
   "metadata": {
    "collapsed": false
   },
   "outputs": [],
   "source": [
    "# Plot the count of students per industry\n",
    "industry_counts = df1.groupby(['industry'])['student_count'].sum()\n",
    "industry_counts.plot(kind='bar')"
   ]
  },
  {
   "cell_type": "markdown",
   "metadata": {},
   "source": [
    "#### 1.2.7 Prepare the dataframe for geocoding"
   ]
  },
  {
   "cell_type": "code",
   "execution_count": null,
   "metadata": {
    "collapsed": false
   },
   "outputs": [],
   "source": [
    "# We tested the geocoder library with town and country as input. Let's create a new column in our dataframe that contains these values.\n",
    "df1['geocode_input'] = df1['city'] + ', ' + df1['country']\n",
    "\n",
    "# We also create two additional columns for lattitude and longitude.\n",
    "df1['lat'], df1['long'] = [0, 0]\n",
    "\n",
    "# Display the head of the updated dataframe.\n",
    "df1.head()"
   ]
  },
  {
   "cell_type": "markdown",
   "metadata": {},
   "source": [
    "### 1.3 Geocoding the data\n",
    "\n",
    "Next, you will geocode cities in the student registrations list in order to display the locations on a map."
   ]
  },
  {
   "cell_type": "markdown",
   "metadata": {},
   "source": [
    "This cell will run through a loop and geocode each of the city and country combinations provided as input. This process may take up to 5 minutes. The response is influenced by the target server capacity.\n",
    "\n",
    "We can use this opportunity to demonstrate how you can save intermediary results as an output file, which you can load when resuming your analysis at a later stage without having to redo all the processing.\n"
   ]
  },
  {
   "cell_type": "code",
   "execution_count": null,
   "metadata": {
    "collapsed": false,
    "scrolled": true
   },
   "outputs": [],
   "source": [
    "# Now we use Geocoder in a loop to gecode the cities and update our dataframe\n",
    "# Wait until the In{*} indicator on the lefthand side changes to a number before proceeding\n",
    "\n",
    "for i in tqdm(range(len(df1))):\n",
    "    g = geocoder.google(df1.loc[i,'geocode_input'])\n",
    "    df1.ix[i,'lat'] = g.lat\n",
    "    df1.ix[i,'long'] = g.lng\n",
    "print('Geocoding complete!')"
   ]
  },
  {
   "cell_type": "code",
   "execution_count": null,
   "metadata": {
    "collapsed": false
   },
   "outputs": [],
   "source": [
    "# Let's look at the dataframe again to see the populated values for latitude and longitude.\n",
    "df1.head()"
   ]
  },
  {
   "cell_type": "markdown",
   "metadata": {},
   "source": [
    "### 1.4 Saving and retrieving your resultset to CSV\n",
    "In some cases you would want to save result sets. You can utilise this technique to store copies of intermediary results where you do not wish to perform the calculations again when resuming your analysis or to output the result to be shared or utilized in other applications. "
   ]
  },
  {
   "cell_type": "code",
   "execution_count": null,
   "metadata": {
    "collapsed": false
   },
   "outputs": [],
   "source": [
    "# To save the output to a file you can use the command below and replace \"filename_export\" with a name of your choice.\n",
    "df1.to_csv('students_export.csv')"
   ]
  },
  {
   "cell_type": "code",
   "execution_count": null,
   "metadata": {
    "collapsed": false
   },
   "outputs": [],
   "source": [
    "# To load the file you just generated, you can replace the filename below with the one you entered in the previous cell.\n",
    "# Create a new Pandas dataframe with the file created in the previous cell.\n",
    "new_df = pd.read_csv('students_export.csv')"
   ]
  },
  {
   "cell_type": "markdown",
   "metadata": {},
   "source": [
    "### 1.5 Plotting the geocoded data on a map\n",
    "\n",
    "You can visit the Folium [documentation](http://folium.readthedocs.io/en/latest/) or browse the [GitHub](https://github.com/python-visualization/folium) repository for further instructions and examples.\n",
    "\n",
    "Feel free to change the map and try to visualize the count of students per country or the count of students per industry per country."
   ]
  },
  {
   "cell_type": "code",
   "execution_count": null,
   "metadata": {
    "collapsed": false
   },
   "outputs": [],
   "source": [
    "# Set map center and zoom level\n",
    "mapc = [0, 30]\n",
    "zoom = 2\n",
    "\n",
    "# Create map object\n",
    "map_osm = folium.Map(location=mapc,\n",
    "                    zoom_start=zoom)\n",
    "# Plot each of the locations that we geocoded\n",
    "for j in tqdm(range(len(df1))):\n",
    "    folium.Marker([df1.ix[j,'lat'], df1.ix[j,'long']],\n",
    "        icon=folium.Icon(color='green',icon='info-sign')\n",
    "        ).add_to(map_osm)\n",
    "# Show the map\n",
    "map_osm"
   ]
  },
  {
   "cell_type": "code",
   "execution_count": null,
   "metadata": {
    "collapsed": false,
    "scrolled": true
   },
   "outputs": [],
   "source": [
    "from folium.plugins import HeatMap\n",
    "\n",
    "# Set map center and zoom level\n",
    "mapc = [0, 30]\n",
    "zoom = 2\n",
    "\n",
    "coordinates = []\n",
    "\n",
    "for i in range(len(df1)):\n",
    "    # eliminate items with'nan' element\n",
    "    if all(~np.isnan([df1.ix[i,'lat'], df1.ix[i,'long'], df1.ix[i,'student_count']])):\n",
    "        coordinates.append([df1.ix[i,'lat'], df1.ix[i,'long'], df1.ix[i,'student_count']])\n",
    "\n",
    "# Create map object\n",
    "m = folium.Map(location=mapc,\n",
    "                    zoom_start=zoom)\n",
    "\n",
    "HeatMap(coordinates).add_to(m)\n",
    "\n",
    "m\n"
   ]
  }
 ],
 "metadata": {
  "anaconda-cloud": {},
  "celltoolbar": "Raw Cell Format",
  "kernelspec": {
   "display_name": "Python 3",
   "language": "python",
   "name": "python3"
  },
  "language_info": {
   "codemirror_mode": {
    "name": "ipython",
    "version": 3
   },
   "file_extension": ".py",
   "mimetype": "text/x-python",
   "name": "python",
   "nbconvert_exporter": "python",
   "pygments_lexer": "ipython3",
   "version": "3.6.0"
  }
 },
 "nbformat": 4,
 "nbformat_minor": 0
}
